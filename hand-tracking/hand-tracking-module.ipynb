{
 "cells": [
  {
   "cell_type": "code",
   "execution_count": 14,
   "source": [
    "import cv2\r\n",
    "import mediapipe as mp\r\n",
    "import time\r\n",
    "\r\n",
    "\r\n",
    "class handDetector():\r\n",
    "    def __init__(self, mode=False,maxHands= 50, detectionCon=0.7, trackCon=0.7, drawCon=0.7, minArea=200, maxArea=4000, minRadius=0, maxRadius=0, minCirc=0, maxCirc=0, minCircR=0, maxCircR=0, minEcc=0, maxEcc=0, minEccR=0, maxEccR=0, minAspect=0, maxAspect=0, minAspectR=0, maxAspectR=0, minExtent=0, maxExtent=0, minExtentR=0, maxExtentR=0, minSolidity=0, maxSolidity=0, minSolidityR=0, maxSolidityR=0, minAreaR=0, maxAreaR=0, minPerimeter=0, maxPerimeter=0, minPerimeterR=0, maxPerimeterR=0, minCircularity=0, maxCircularity=0, minCircularityR=0, maxCircularityR=0, minInertiaRatio=0, maxInertiaRatio=0, minInertiaRatioR=0, maxInertiaRatioR=0):\r\n",
    "        self.mode = mode\r\n",
    "        self.maxHands = maxHands\r\n",
    "        self.detectionCon = detectionCon\r\n",
    "        self.trackCon = trackCon\r\n",
    "\r\n",
    "        self.mpHands = mp.solutions.hands\r\n",
    "        self.hands = self.mpHands.Hands(self.mode,self.maxHands,self.detectionCon,self.trackCon)\r\n",
    "        self.mpDraw = mp.solutions.drawing_utils\r\n",
    "\r\n",
    "    def findHands(self,img, draw=True):\r\n",
    "  # Capture frame-by-frame\r\n",
    "        imgRGB = cv2.cvtColor(img, cv2.COLOR_BGR2RGB)\r\n",
    "        self.results = self.hands.process(imgRGB)\r\n",
    "            # print(results.multi_hand_landmarks)\r\n",
    "        if self.results.multi_hand_landmarks:\r\n",
    "            for handLms in self.results.multi_hand_landmarks:\r\n",
    "                if draw:\r\n",
    "                    self.mpDraw.draw_landmarks(img, handLms, self.mpHands.HAND_CONNECTIONS)\r\n",
    "        return img\r\n",
    "\r\n",
    "    def findPosition(self, img, handNo=0, draw = False):\r\n",
    "        lmList=[]\r\n",
    "        if self.results.multi_hand_landmarks:\r\n",
    "            myHand = self.results.multi_hand_landmarks[handNo]\r\n",
    "            \r\n",
    "            for id, lm in enumerate(myHand.landmark):\r\n",
    "                h,w,c=img.shape\r\n",
    "                cx,cy = int(lm.x*w), int(lm.y*h)\r\n",
    "                # print(id,cx, cy)\r\n",
    "                lmList.append([id,cx,cy])\r\n",
    "                if draw: #all point have index.\r\n",
    "                    cv2.circle(img, (cx,cy), 5, (255,0,255), cv2.FILLED)\r\n",
    "        return lmList\r\n",
    "def main():\r\n",
    "# From here copy the code and you will get new model\r\n",
    "    pTime = 0\r\n",
    "    cTime = 0\r\n",
    "    cap = cv2.VideoCapture(0)\r\n",
    "    detector = handDetector()\r\n",
    "    while True:\r\n",
    "        success, img = cap.read()\r\n",
    "        img = detector.findHands(img) \r\n",
    "        lmList=detector.findPosition(img)\r\n",
    "        # if len(lmList) !=0:\r\n",
    "            # print(lmList[4])\r\n",
    "\r\n",
    "        cTime = time.time()\r\n",
    "        fps = 1/(cTime - pTime)\r\n",
    "        pTime = cTime\r\n",
    "\r\n",
    "        cv2.putText(img, str(int(fps)), (10, 70), cv2.FONT_HERSHEY_PLAIN,3,(255,0,255),3)\r\n",
    "            \r\n",
    "        cv2.imshow(\"Image\",img)\r\n",
    "        cv2.waitKey(1)\r\n",
    "\r\n",
    "# Till here you will get new model\r\n",
    "\r\n",
    "if __name__ == '__main__':\r\n",
    "    main()\r\n",
    "\r\n",
    "\r\n",
    "    "
   ],
   "outputs": [
    {
     "output_type": "error",
     "ename": "SyntaxError",
     "evalue": "duplicate argument 'minArea' in function definition (<ipython-input-14-bccb24610576>, line 7)",
     "traceback": [
      "\u001b[1;36m  File \u001b[1;32m\"<ipython-input-14-bccb24610576>\"\u001b[1;36m, line \u001b[1;32m7\u001b[0m\n\u001b[1;33m    def __init__(self, mode=False,maxHands= 50, detectionCon=0.7, trackCon=0.7, drawCon=0.7, minArea=200, maxArea=4000, minRadius=0, maxRadius=0, minCirc=0, maxCirc=0, minCircR=0, maxCircR=0, minEcc=0, maxEcc=0, minEccR=0, maxEccR=0, minAspect=0, maxAspect=0, minAspectR=0, maxAspectR=0, minExtent=0, maxExtent=0, minExtentR=0, maxExtentR=0, minSolidity=0, maxSolidity=0, minSolidityR=0, maxSolidityR=0, minArea=0, maxArea=0, minAreaR=0, maxAreaR=0, minPerimeter=0, maxPerimeter=0, minPerimeterR=0, maxPerimeterR=0, minCircularity=0, maxCircularity=0, minCircularityR=0, maxCircularityR=0, minInertiaRatio=0, maxInertiaRatio=0, minInertiaRatioR=0, maxInertiaRatioR=0):\u001b[0m\n\u001b[1;37m    ^\u001b[0m\n\u001b[1;31mSyntaxError\u001b[0m\u001b[1;31m:\u001b[0m duplicate argument 'minArea' in function definition\n"
     ]
    }
   ],
   "metadata": {}
  }
 ],
 "metadata": {
  "orig_nbformat": 4,
  "language_info": {
   "name": "python",
   "version": "3.8.8",
   "mimetype": "text/x-python",
   "codemirror_mode": {
    "name": "ipython",
    "version": 3
   },
   "pygments_lexer": "ipython3",
   "nbconvert_exporter": "python",
   "file_extension": ".py"
  },
  "kernelspec": {
   "name": "python3",
   "display_name": "Python 3.8.8 64-bit ('base': conda)"
  },
  "interpreter": {
   "hash": "6d46af94c2bbce495f1e668725902fa517c90b1782bcfe2fce0dd9868df553d3"
  }
 },
 "nbformat": 4,
 "nbformat_minor": 2
}