{
    "cells": [
        {
            "cell_type": "code",
            "execution_count": 1,
            "source": [
                "import cv2\r\n",
                "import mediapipe as mp\r\n",
                "import time\r\n",
                "\r\n",
                "cap = cv2.VideoCapture(0)\r\n",
                "mpHands = mp.solutions.hands\r\n",
                "hands = mpHands.Hands()\r\n",
                "mpDraw = mp.solutions.drawing_utils\r\n",
                "\r\n",
                "pTime = 0\r\n",
                "cTime = 0\r\n",
                "while True:\r\n",
                "    success, img = cap.read()   # Capture frame-by-frame\r\n",
                "    imgRGB = cv2.cvtColor(img, cv2.COLOR_BGR2RGB)\r\n",
                "    results = hands.process(imgRGB)\r\n",
                "    # print(results.multi_hand_landmarks)\r\n",
                "    if results.multi_hand_landmarks:\r\n",
                "        for handLms in results.multi_hand_landmarks:\r\n",
                "            for id, lm in enumerate(handLms.landmark):\r\n",
                "                # print(id,lm)\r\n",
                "                h,w,c=img.shape\r\n",
                "                cx,cy = int(lm.x*w), int(lm.y*h)\r\n",
                "                # print(id,cx, cy)\r\n",
                "                if id==0: #all point have index.\r\n",
                "                    cv2.circle(img, (cx,cy), 5, (255,0,255), cv2.FILLED)\r\n",
                "            mpDraw.draw_landmarks(img, handLms, mpHands.HAND_CONNECTIONS)\r\n",
                "    cTime = time.time()\r\n",
                "    fps = 1/(cTime - pTime)\r\n",
                "    pTime = cTime\r\n",
                "\r\n",
                "    cv2.putText(img, str(int(fps)), (10, 70), cv2.FONT_HERSHEY_PLAIN,3,(255,0,255),3)\r\n",
                "        \r\n",
                "    cv2.imshow(\"Image\",img)\r\n",
                "    cv2.waitKey(1)\r\n",
                "    "
            ],
            "outputs": [],
            "metadata": {}
        }
    ],
    "metadata": {
        "orig_nbformat": 4,
        "language_info": {
            "name": "python",
            "version": "3.8.8",
            "mimetype": "text/x-python",
            "codemirror_mode": {
                "name": "ipython",
                "version": 3
            },
            "pygments_lexer": "ipython3",
            "nbconvert_exporter": "python",
            "file_extension": ".py"
        },
        "kernelspec": {
            "name": "python3",
            "display_name": "Python 3.8.8 64-bit ('base': conda)"
        },
        "interpreter": {
            "hash": "6d46af94c2bbce495f1e668725902fa517c90b1782bcfe2fce0dd9868df553d3"
        }
    },
    "nbformat": 4,
    "nbformat_minor": 2
}