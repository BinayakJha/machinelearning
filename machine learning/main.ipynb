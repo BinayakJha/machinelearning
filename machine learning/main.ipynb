{
 "cells": [
  {
   "cell_type": "code",
   "execution_count": 1,
   "source": [
    "import matplotlib.pyplot as plt\r\n",
    "import numpy as np\r\n",
    "from sklearn import datasets, linear_model\r\n",
    "from sklearn.metrics import mean_squared_error"
   ],
   "outputs": [],
   "metadata": {}
  },
  {
   "cell_type": "code",
   "execution_count": 2,
   "source": [
    "# import dianetes dataset\r\n",
    "diabetes = datasets.load_diabetes()\r\n",
    "# # (['data', 'target', 'frame', 'DESCR', 'feature_names', 'data_filename', 'target_filename'])\r\n",
    "# print(diabetes.DESCR)\r\n",
    "\r\n"
   ],
   "outputs": [],
   "metadata": {}
  },
  {
   "cell_type": "code",
   "execution_count": 3,
   "source": [
    "diabetes_X = diabetes.data[:, np.newaxis, 2]\r\n",
    "# print(diabetes_X)\r\n",
    "\r\n",
    "\r\n"
   ],
   "outputs": [],
   "metadata": {}
  },
  {
   "cell_type": "code",
   "execution_count": 4,
   "source": [
    "# slicing data\r\n",
    "diabetes_X_train = diabetes_X[:-30]\r\n",
    "diabetes_X_test = diabetes_X[-30:]\r\n",
    "# X-axis is features and Y-axis is label\r\n",
    "diabetes_Y_train = diabetes.target[:-30] # will be label og diabetes_X_train\r\n",
    "diabetes_Y_test = diabetes.target[-30:] # will be label of diabetes_X_test\r\n",
    "\r\n",
    "model = linear_model.LinearRegression()\r\n",
    "model.fit(diabetes_X_train, diabetes_Y_train)\r\n",
    "diabetes_Y_predicted = model.predict(diabetes_X_test)\r\n",
    "\r\n",
    "print(\"Mean Squared Error = \",mean_squared_error(diabetes_Y_test, diabetes_Y_predicted))\r\n",
    "\r\n",
    "print(\"Weights = \", model.coef_)\r\n",
    "print(\"Intercept = \", model.intercept_)\r\n",
    "\r\n",
    "plt.scatter(diabetes_X_test, diabetes_Y_test, color='black')\r\n",
    "plt.plot(diabetes_X_test, diabetes_Y_predicted)\r\n"
   ],
   "outputs": [
    {
     "output_type": "stream",
     "name": "stdout",
     "text": [
      "Mean Squared Error =  3035.0601152912695\n",
      "Weights =  [941.43097333]\n",
      "Intercept =  153.39713623331698\n"
     ]
    },
    {
     "output_type": "execute_result",
     "data": {
      "text/plain": [
       "[<matplotlib.lines.Line2D at 0x16eb758d970>]"
      ]
     },
     "metadata": {},
     "execution_count": 4
    },
    {
     "output_type": "display_data",
     "data": {
      "text/plain": [
       "<Figure size 432x288 with 1 Axes>"
      ],
      "image/png": "[encoded data removed]"
     },
     "metadata": {
      "needs_background": "light"
     }
    }
   ],
   "metadata": {}
  },
  {
   "cell_type": "code",
   "execution_count": 10,
   "source": [
    "diabetes_X  = np.array(([1],[2],[3],[4],[5], [6], [7], [8], [9], [10]))\r\n",
    "\r\n",
    "diabetes_X_train = diabetes_X\r\n",
    "diabetes_X_test = diabetes_X\r\n",
    "diabetes_Y_train = np.array(([3],[2],[4],[5],[6],[7],[8],[9],[10],[11]))\r\n",
    "diabetes_Y_test = np.array(([3],[2],[4],[5],[6],[7],[8],[9],[10],[11]))\r\n",
    "\r\n",
    "model = linear_model.LinearRegression()\r\n",
    "model.fit(diabetes_X_train, diabetes_Y_train)\r\n",
    "diabetes_Y_predicted = model.predict(diabetes_X_test)\r\n",
    "\r\n",
    "print(\"Mean Squared Error = \",mean_squared_error(diabetes_Y_test, diabetes_Y_predicted))\r\n",
    "\r\n",
    "print(\"Weights = \", model.coef_)\r\n",
    "print(\"Intercept = \", model.intercept_)\r\n",
    "\r\n",
    "plt.scatter(diabetes_X_test, diabetes_Y_test, color='black')\r\n",
    "plt.plot(diabetes_X_test, diabetes_Y_predicted)\r\n",
    "\r\n",
    "\r\n"
   ],
   "outputs": [
    {
     "output_type": "stream",
     "name": "stdout",
     "text": [
      "Mean Squared Error =  0.19878787878787885\n",
      "Weights =  [[0.98787879]]\n",
      "Intercept =  [1.06666667]\n"
     ]
    },
    {
     "output_type": "execute_result",
     "data": {
      "text/plain": [
       "[<matplotlib.lines.Line2D at 0x16eba5f6d30>]"
      ]
     },
     "metadata": {},
     "execution_count": 10
    },
    {
     "output_type": "display_data",
     "data": {
      "text/plain": [
       "<Figure size 432x288 with 1 Axes>"
      ],
      "image/png": "[encoded data removed]"
     },
     "metadata": {
      "needs_background": "light"
     }
    }
   ],
   "metadata": {}
  }
 ],
 "metadata": {
  "orig_nbformat": 4,
  "language_info": {
   "name": "python",
   "version": "3.8.8",
   "mimetype": "text/x-python",
   "codemirror_mode": {
    "name": "ipython",
    "version": 3
   },
   "pygments_lexer": "ipython3",
   "nbconvert_exporter": "python",
   "file_extension": ".py"
  },
  "kernelspec": {
   "name": "python3",
   "display_name": "Python 3.8.8 64-bit ('base': conda)"
  },
  "interpreter": {
   "hash": "6d46af94c2bbce495f1e668725902fa517c90b1782bcfe2fce0dd9868df553d3"
  }
 },
 "nbformat": 4,
 "nbformat_minor": 2
}