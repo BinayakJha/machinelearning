{
 "cells": [
  {
   "cell_type": "code",
   "execution_count": 1,
   "source": [
    "import cv2\r\n",
    "import mediapipe as mp\r\n",
    "import time\r\n",
    "\r\n",
    "cap = cv2.VideoCapture(0)\r\n",
    "# cap = cv2.VideoCapture('Video Of People Walking.mp4')\r\n",
    "pTime=0\r\n",
    "\r\n",
    "mpDraw = mp.solutions.drawing_utils\r\n",
    "mpFaceMesh = mp.solutions.face_mesh\r\n",
    "faceMesh = mpFaceMesh.FaceMesh(max_num_faces=50)\r\n",
    "drawSpec = mpDraw.DrawingSpec(thickness = 1, circle_radius=2)\r\n",
    "while True:\r\n",
    "    success, img =  cap.read()\r\n",
    "\r\n",
    "    imgRGB = cv2.cvtColor(img, cv2.COLOR_BGR2RGB)\r\n",
    "    results = faceMesh.process(imgRGB)\r\n",
    "    if results.multi_face_landmarks:\r\n",
    "        for faceLms in results.multi_face_landmarks:\r\n",
    "            mpDraw.draw_landmarks(img, faceLms,mpFaceMesh.FACE_CONNECTIONS, drawSpec,drawSpec)\r\n",
    "        for lm in faceLms.landmark:\r\n",
    "            # print(lm)\r\n",
    "            ih, iw, ic = img.shape\r\n",
    "            x,y = int(lm.x*iw), int(lm.y*ih)\r\n",
    "            # print(x,y)\r\n",
    "\r\n",
    "    cTime = time.time()\r\n",
    "    fps = 1/(cTime-pTime)\r\n",
    "    pTime = cTime\r\n",
    "    cv2.putText(img, f'FPS: {int(fps)}',(20,70),cv2.FONT_HERSHEY_PLAIN, 3,(255,0,0),3)\r\n",
    "    cv2.imshow('Image',img)\r\n",
    "    cv2.waitKey(1)"
   ],
   "outputs": [],
   "metadata": {}
  }
 ],
 "metadata": {
  "orig_nbformat": 4,
  "language_info": {
   "name": "python",
   "version": "3.8.8",
   "mimetype": "text/x-python",
   "codemirror_mode": {
    "name": "ipython",
    "version": 3
   },
   "pygments_lexer": "ipython3",
   "nbconvert_exporter": "python",
   "file_extension": ".py"
  },
  "kernelspec": {
   "name": "python3",
   "display_name": "Python 3.8.8 64-bit ('base': conda)"
  },
  "interpreter": {
   "hash": "6d46af94c2bbce495f1e668725902fa517c90b1782bcfe2fce0dd9868df553d3"
  }
 },
 "nbformat": 4,
 "nbformat_minor": 2
}