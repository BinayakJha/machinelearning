{
    "cells": [
        {
            "cell_type": "code",
            "execution_count": null,
            "source": [
                "import cv2\r\n",
                "import mediapipe as mp\r\n",
                "import time\r\n",
                "class FaceMeshDetector():\r\n",
                "    def __init__(self, staticMode=False, maxFaces=2, minDetectionCon=0.5, minTrackCon=0.5):\r\n",
                "\r\n",
                "        self.staticMode = staticMode\r\n",
                "        self.maxFaces = maxFaces\r\n",
                "        self.minDetectionCon = minDetectionCon\r\n",
                "        self.minTrackCon = minTrackCon\r\n",
                "\r\n",
                "        self.mpDraw = mp.solutions.drawing_utils\r\n",
                "        self.mpFaceMesh = mp.solutions.face_mesh\r\n",
                "        self.faceMesh = self.mpFaceMesh.FaceMesh(self.staticMode, self.maxFaces,\r\n",
                "        self.minDetectionCon, self.minTrackCon)\r\n",
                "        self.drawSpec = self.mpDraw.DrawingSpec(thickness=1, circle_radius=2)\r\n",
                "\r\n",
                "    def findFaceMesh(self, img, draw=True):\r\n",
                "        self.imgRGB = cv2.cvtColor(img, cv2.COLOR_BGR2RGB)\r\n",
                "        self.results = self.faceMesh.process(self.imgRGB)\r\n",
                "        faces = []\r\n",
                "        if self.results.multi_face_landmarks:\r\n",
                "            for self.faceLms in self.results.multi_face_landmarks:\r\n",
                "                if draw:\r\n",
                "                    self.mpDraw.draw_landmarks(img, self.faceLms, self.mpFaceMesh.FACE_CONNECTIONS,\r\n",
                "                    self.drawSpec, self.drawSpec)\r\n",
                "        face = []\r\n",
                "        for id,lm in enumerate(self.faceLms.landmark):\r\n",
                "            #print(lm)\r\n",
                "            ih, iw, ic = img.shape\r\n",
                "            x,y = int(lm.x*iw), int(lm.y*ih)\r\n",
                "            #cv2.putText(img, str(id), (x, y), cv2.FONT_HERSHEY_PLAIN,\r\n",
                "            # 0.7, (0, 255, 0), 1)\r\n",
                "\r\n",
                "            #print(id,x,y)\r\n",
                "            face.append([x,y])\r\n",
                "            faces.append(face)\r\n",
                "            return img, faces\r\n",
                "\r\n",
                "def main():\r\n",
                "    cap = cv2.VideoCapture(0)\r\n",
                "    pTime = 0\r\n",
                "    detector = FaceMeshDetector(maxFaces=10)\r\n",
                "    while True:\r\n",
                "        success, img = cap.read()\r\n",
                "        img, faces = detector.findFaceMesh(img)\r\n",
                "        if len(faces)!= 0:\r\n",
                "            print(faces[0])\r\n",
                "        cTime = time.time()\r\n",
                "        fps = 1 / (cTime - pTime)\r\n",
                "        pTime = cTime\r\n",
                "        cv2.putText(img, f'Frames  Per Second: {int(fps)}',(20,70),cv2.FONT_HERSHEY_PLAIN, 3,(0,255,0),3)\r\n",
                "        cv2.imshow('Image',img)\r\n",
                "        cv2.waitKey(1)\r\n",
                "\r\n",
                "if __name__ == '__main__':\r\n",
                "    main()"
            ],
            "outputs": [],
            "metadata": {}
        }
    ],
    "metadata": {
        "orig_nbformat": 4,
        "language_info": {
            "name": "python",
            "version": "3.8.8",
            "mimetype": "text/x-python",
            "codemirror_mode": {
                "name": "ipython",
                "version": 3
            },
            "pygments_lexer": "ipython3",
            "nbconvert_exporter": "python",
            "file_extension": ".py"
        },
        "kernelspec": {
            "name": "python3",
            "display_name": "Python 3.8.8 64-bit ('base': conda)"
        },
        "interpreter": {
            "hash": "6d46af94c2bbce495f1e668725902fa517c90b1782bcfe2fce0dd9868df553d3"
        }
    },
    "nbformat": 4,
    "nbformat_minor": 2
}