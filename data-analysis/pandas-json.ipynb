{
 "cells": [
  {
   "cell_type": "markdown",
   "source": [
    "## WORKNG WITH JSON"
   ],
   "metadata": {}
  },
  {
   "cell_type": "code",
   "execution_count": 1,
   "source": [
    "import json"
   ],
   "outputs": [],
   "metadata": {}
  },
  {
   "cell_type": "code",
   "execution_count": 4,
   "source": [
    "\r\n",
    "json_data = '''\r\n",
    "{\r\n",
    "  \"params\":\r\n",
    "  {\r\n",
    "    \"local_server\":\"True\",\r\n",
    "    \"local_uri\": \"mysql://root:@localhost/codingthunder\",\r\n",
    "    \"prod_uri\":\"mysql://root:@localhost/codingthunder\",\r\n",
    "    \"fb_url\":\"https://facebook.com/codingthunder\",\r\n",
    "    \"tw_url\":\"https://twitter.com/codingthunder\",\r\n",
    "    \"gh_url\": \"https://github.com/codingthunder\",\r\n",
    "    \"blog_name\": \"Coding Thunder\",\r\n",
    "    \"tag_line\": \"Heaven for programmers\",\r\n",
    "    \"gmail-user\":\"your-email@gmail.com\",\r\n",
    "    \"gmail-password\":\"gmailpassword\",\r\n",
    "    \"about_text\": \"Hi my name is harry and I create programming tutorials and I am a good boy\",\r\n",
    "    \"no_of_posts\": 3,\r\n",
    "    \"login_image\":\"login.svg\",\r\n",
    "    \"admin_user\":\"harry\",\r\n",
    "    \"admin_password\": \"subscribenow\"\r\n",
    "  }\r\n",
    "}'''\r\n"
   ],
   "outputs": [],
   "metadata": {}
  },
  {
   "cell_type": "code",
   "execution_count": 5,
   "source": [
    "x = json.loads(json_data)"
   ],
   "outputs": [],
   "metadata": {}
  },
  {
   "cell_type": "code",
   "execution_count": 8,
   "source": [
    "with open('2.json','w') as f:\r\n",
    "    json.dump(x,f)"
   ],
   "outputs": [],
   "metadata": {}
  },
  {
   "cell_type": "code",
   "execution_count": 7,
   "source": [
    "x['params']"
   ],
   "outputs": [
    {
     "output_type": "execute_result",
     "data": {
      "text/plain": [
       "{'local_server': 'True',\n",
       " 'local_uri': 'mysql://root:@localhost/codingthunder',\n",
       " 'prod_uri': 'mysql://root:@localhost/codingthunder',\n",
       " 'fb_url': 'https://facebook.com/codingthunder',\n",
       " 'tw_url': 'https://twitter.com/codingthunder',\n",
       " 'gh_url': 'https://github.com/codingthunder',\n",
       " 'blog_name': 'Coding Thunder',\n",
       " 'tag_line': 'Heaven for programmers',\n",
       " 'gmail-user': 'your-email@gmail.com',\n",
       " 'gmail-password': 'gmailpassword',\n",
       " 'about_text': 'Hi my name is harry and I create programming tutorials and I am a good boy',\n",
       " 'no_of_posts': 3,\n",
       " 'login_image': 'login.svg',\n",
       " 'admin_user': 'harry',\n",
       " 'admin_password': 'subscribenow'}"
      ]
     },
     "metadata": {},
     "execution_count": 7
    }
   ],
   "metadata": {}
  },
  {
   "cell_type": "code",
   "execution_count": null,
   "source": [],
   "outputs": [],
   "metadata": {}
  },
  {
   "cell_type": "code",
   "execution_count": null,
   "source": [],
   "outputs": [],
   "metadata": {}
  }
 ],
 "metadata": {
  "orig_nbformat": 4,
  "language_info": {
   "name": "python",
   "version": "3.8.8",
   "mimetype": "text/x-python",
   "codemirror_mode": {
    "name": "ipython",
    "version": 3
   },
   "pygments_lexer": "ipython3",
   "nbconvert_exporter": "python",
   "file_extension": ".py"
  },
  "kernelspec": {
   "name": "python3",
   "display_name": "Python 3.8.8 64-bit ('base': conda)"
  },
  "interpreter": {
   "hash": "6d46af94c2bbce495f1e668725902fa517c90b1782bcfe2fce0dd9868df553d3"
  }
 },
 "nbformat": 4,
 "nbformat_minor": 2
}